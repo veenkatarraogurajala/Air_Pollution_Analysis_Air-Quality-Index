{
 "cells": [
  {
   "cell_type": "code",
   "execution_count": null,
   "id": "4a82ae50",
   "metadata": {},
   "outputs": [],
   "source": [
    "import requests\n",
    "from bs4 import BeautifulSoup\n",
    "import pandas as pd\n",
    "# URL of the website with AQI data\n",
    "url = \"https://www.iqair.com/\"\n",
    "\n",
    "# Send a GET request to the website\n",
    "response = requests.get(url)\n",
    "\n",
    "# Parse the HTML content using BeautifulSoup\n",
    "soup = BeautifulSoup(response.content, \"html.parser\")\n",
    "\n",
    "# Find the section containing AQI data\n",
    "aqi_section = soup.find(\"section\", {\"class\": \"a-hero-card\"})\n",
    "\n",
    "# Extract the AQI value\n",
    "aqi_value = aqi_section.find(\"div\", {\"class\": \"aqi-label-value\"}).text.strip()\n",
    "\n",
    "# Extract the location\n",
    "location = aqi_section.find(\"div\", {\"class\": \"location-name\"}).text.strip()\n",
    "print(f\"Location: {location}\")\n",
    "print(f\"AQI Value: {aqi_value}\")\n"
   ]
  }
 ],
 "metadata": {
  "kernelspec": {
   "display_name": "Python 3 (ipykernel)",
   "language": "python",
   "name": "python3"
  },
  "language_info": {
   "codemirror_mode": {
    "name": "ipython",
    "version": 3
   },
   "file_extension": ".py",
   "mimetype": "text/x-python",
   "name": "python",
   "nbconvert_exporter": "python",
   "pygments_lexer": "ipython3",
   "version": "3.10.9"
  }
 },
 "nbformat": 4,
 "nbformat_minor": 5
}
